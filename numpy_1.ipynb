{
  "nbformat": 4,
  "nbformat_minor": 0,
  "metadata": {
    "colab": {
      "name": "numpy_1.ipynb",
      "provenance": [],
      "authorship_tag": "ABX9TyNwxB9k4PRK9qB9EsEMkSdu",
      "include_colab_link": true
    },
    "kernelspec": {
      "name": "python3",
      "display_name": "Python 3"
    }
  },
  "cells": [
    {
      "cell_type": "markdown",
      "metadata": {
        "id": "view-in-github",
        "colab_type": "text"
      },
      "source": [
        "<a href=\"https://colab.research.google.com/github/sowrabh-adiga/all-Machine-learning-codes/blob/main/numpy_1.ipynb\" target=\"_parent\"><img src=\"https://colab.research.google.com/assets/colab-badge.svg\" alt=\"Open In Colab\"/></a>"
      ]
    },
    {
      "cell_type": "code",
      "metadata": {
        "id": "FLI-_8zlj6Ve"
      },
      "source": [
        "#import the library\r\n",
        "import numpy as np"
      ],
      "execution_count": 2,
      "outputs": []
    },
    {
      "cell_type": "markdown",
      "metadata": {
        "id": "e2x-OVw9qbTY"
      },
      "source": [
        "#Datatype and Attributes"
      ]
    },
    {
      "cell_type": "code",
      "metadata": {
        "colab": {
          "base_uri": "https://localhost:8080/"
        },
        "id": "NaEVV1eZqihW",
        "outputId": "f0a94c76-4357-4067-ae7c-1447aef47506"
      },
      "source": [
        "a1 = np.array([1,2,3])\r\n",
        "a1"
      ],
      "execution_count": 3,
      "outputs": [
        {
          "output_type": "execute_result",
          "data": {
            "text/plain": [
              "array([1, 2, 3])"
            ]
          },
          "metadata": {
            "tags": []
          },
          "execution_count": 3
        }
      ]
    },
    {
      "cell_type": "code",
      "metadata": {
        "colab": {
          "base_uri": "https://localhost:8080/"
        },
        "id": "XD35A1ktq1uD",
        "outputId": "3a58ad60-bc93-42ec-c2ae-87911d9e242e"
      },
      "source": [
        "type(a1)"
      ],
      "execution_count": null,
      "outputs": [
        {
          "output_type": "execute_result",
          "data": {
            "text/plain": [
              "numpy.ndarray"
            ]
          },
          "metadata": {
            "tags": []
          },
          "execution_count": 3
        }
      ]
    },
    {
      "cell_type": "code",
      "metadata": {
        "id": "QMWB5JYYq5sL"
      },
      "source": [
        "a2 = np.array([[1,2.0,3.3],\r\n",
        "              [4,5,6.6]])\r\n",
        "a3 = np.array([[1,2,3],\r\n",
        "              [4,5,6],\r\n",
        "              [7,8,9],\r\n",
        "              [10,11,12],\r\n",
        "              [13,14,15],\r\n",
        "              [16,17,18]])\r\n"
      ],
      "execution_count": 4,
      "outputs": []
    },
    {
      "cell_type": "code",
      "metadata": {
        "colab": {
          "base_uri": "https://localhost:8080/"
        },
        "id": "E_hV5T03rpUG",
        "outputId": "a47d7df7-f3c5-425e-a449-70e442eb18cc"
      },
      "source": [
        "a2"
      ],
      "execution_count": null,
      "outputs": [
        {
          "output_type": "execute_result",
          "data": {
            "text/plain": [
              "array([[1. , 2. , 3.3],\n",
              "       [4. , 5. , 6.6]])"
            ]
          },
          "metadata": {
            "tags": []
          },
          "execution_count": 7
        }
      ]
    },
    {
      "cell_type": "code",
      "metadata": {
        "colab": {
          "base_uri": "https://localhost:8080/"
        },
        "id": "2hY-girCr3dq",
        "outputId": "c3016a4a-a5d0-458e-fbb9-301805f79950"
      },
      "source": [
        "a3"
      ],
      "execution_count": null,
      "outputs": [
        {
          "output_type": "execute_result",
          "data": {
            "text/plain": [
              "array([[ 1,  2,  3],\n",
              "       [ 4,  5,  6],\n",
              "       [ 7,  8,  9],\n",
              "       [10, 11, 12],\n",
              "       [13, 14, 15],\n",
              "       [16, 17, 18]])"
            ]
          },
          "metadata": {
            "tags": []
          },
          "execution_count": 8
        }
      ]
    },
    {
      "cell_type": "markdown",
      "metadata": {
        "id": "A2zhrc4wr5Mc"
      },
      "source": [
        "#Attributes"
      ]
    },
    {
      "cell_type": "code",
      "metadata": {
        "colab": {
          "base_uri": "https://localhost:8080/"
        },
        "id": "HMGx9SyXsnw-",
        "outputId": "a1808f17-f993-4e41-82e6-638d5c645c4f"
      },
      "source": [
        "print(a1.shape)\r\n",
        "print(a2.shape)\r\n",
        "print(a3.shape)"
      ],
      "execution_count": null,
      "outputs": [
        {
          "output_type": "stream",
          "text": [
            "(3,)\n",
            "(2, 3)\n",
            "(6, 3)\n"
          ],
          "name": "stdout"
        }
      ]
    },
    {
      "cell_type": "code",
      "metadata": {
        "colab": {
          "base_uri": "https://localhost:8080/"
        },
        "id": "JNeecbxCs0UB",
        "outputId": "50f9e5a2-072e-45fe-9b85-78ee78e146a5"
      },
      "source": [
        "#no. of dimensions\r\n",
        "a1.ndim,a2.ndim,a3.ndim"
      ],
      "execution_count": null,
      "outputs": [
        {
          "output_type": "execute_result",
          "data": {
            "text/plain": [
              "(1, 2, 2)"
            ]
          },
          "metadata": {
            "tags": []
          },
          "execution_count": 10
        }
      ]
    },
    {
      "cell_type": "code",
      "metadata": {
        "colab": {
          "base_uri": "https://localhost:8080/"
        },
        "id": "aOhwoR6ktFzT",
        "outputId": "537b8af1-e290-40f1-9baf-9b68b90e94ce"
      },
      "source": [
        "# get datatype\r\n",
        "a1.dtype, a2.dtype, a3.dtype"
      ],
      "execution_count": null,
      "outputs": [
        {
          "output_type": "execute_result",
          "data": {
            "text/plain": [
              "(dtype('int64'), dtype('float64'), dtype('int64'))"
            ]
          },
          "metadata": {
            "tags": []
          },
          "execution_count": 11
        }
      ]
    },
    {
      "cell_type": "code",
      "metadata": {
        "colab": {
          "base_uri": "https://localhost:8080/"
        },
        "id": "dx9CJqZTvDE8",
        "outputId": "df2c2672-5c29-4486-801f-b622c5e4b8fd"
      },
      "source": [
        "# get size (or number of elements)\r\n",
        "a1.size,a2.size,a3.size"
      ],
      "execution_count": null,
      "outputs": [
        {
          "output_type": "execute_result",
          "data": {
            "text/plain": [
              "(3, 6, 18)"
            ]
          },
          "metadata": {
            "tags": []
          },
          "execution_count": 12
        }
      ]
    },
    {
      "cell_type": "markdown",
      "metadata": {
        "id": "vZB6T2NivaMJ"
      },
      "source": [
        "#Note: All numpy array is ndarray"
      ]
    },
    {
      "cell_type": "code",
      "metadata": {
        "colab": {
          "base_uri": "https://localhost:8080/",
          "height": 106
        },
        "id": "1DMUdLFivnMV",
        "outputId": "4387f72d-0849-45f8-a589-ca32f653a4d1"
      },
      "source": [
        "#create a dataframe from numpy array\r\n",
        "import pandas as pd\r\n",
        "df = pd.DataFrame(a2)\r\n",
        "df"
      ],
      "execution_count": null,
      "outputs": [
        {
          "output_type": "execute_result",
          "data": {
            "text/html": [
              "<div>\n",
              "<style scoped>\n",
              "    .dataframe tbody tr th:only-of-type {\n",
              "        vertical-align: middle;\n",
              "    }\n",
              "\n",
              "    .dataframe tbody tr th {\n",
              "        vertical-align: top;\n",
              "    }\n",
              "\n",
              "    .dataframe thead th {\n",
              "        text-align: right;\n",
              "    }\n",
              "</style>\n",
              "<table border=\"1\" class=\"dataframe\">\n",
              "  <thead>\n",
              "    <tr style=\"text-align: right;\">\n",
              "      <th></th>\n",
              "      <th>0</th>\n",
              "      <th>1</th>\n",
              "      <th>2</th>\n",
              "    </tr>\n",
              "  </thead>\n",
              "  <tbody>\n",
              "    <tr>\n",
              "      <th>0</th>\n",
              "      <td>1.0</td>\n",
              "      <td>2.0</td>\n",
              "      <td>3.3</td>\n",
              "    </tr>\n",
              "    <tr>\n",
              "      <th>1</th>\n",
              "      <td>4.0</td>\n",
              "      <td>5.0</td>\n",
              "      <td>6.6</td>\n",
              "    </tr>\n",
              "  </tbody>\n",
              "</table>\n",
              "</div>"
            ],
            "text/plain": [
              "     0    1    2\n",
              "0  1.0  2.0  3.3\n",
              "1  4.0  5.0  6.6"
            ]
          },
          "metadata": {
            "tags": []
          },
          "execution_count": 15
        }
      ]
    },
    {
      "cell_type": "markdown",
      "metadata": {
        "id": "z4uHdpSjzt3B"
      },
      "source": [
        "#creating arrays shortcut"
      ]
    },
    {
      "cell_type": "code",
      "metadata": {
        "colab": {
          "base_uri": "https://localhost:8080/"
        },
        "id": "ANDl7PS8z56K",
        "outputId": "c476bc71-d276-4f4b-9fd5-94b178dad82f"
      },
      "source": [
        "sample = np.array([1,2,3])\r\n",
        "sample"
      ],
      "execution_count": null,
      "outputs": [
        {
          "output_type": "execute_result",
          "data": {
            "text/plain": [
              "array([1, 2, 3])"
            ]
          },
          "metadata": {
            "tags": []
          },
          "execution_count": 16
        }
      ]
    },
    {
      "cell_type": "code",
      "metadata": {
        "colab": {
          "base_uri": "https://localhost:8080/"
        },
        "id": "D9a00q5X0fYx",
        "outputId": "f6adb189-7caa-4a8b-ebcb-539a96482934"
      },
      "source": [
        "sample.dtype"
      ],
      "execution_count": null,
      "outputs": [
        {
          "output_type": "execute_result",
          "data": {
            "text/plain": [
              "dtype('int64')"
            ]
          },
          "metadata": {
            "tags": []
          },
          "execution_count": 17
        }
      ]
    },
    {
      "cell_type": "markdown",
      "metadata": {
        "id": "Mg0KFk_L17IO"
      },
      "source": [
        "#array of ones and zeros"
      ]
    },
    {
      "cell_type": "code",
      "metadata": {
        "colab": {
          "base_uri": "https://localhost:8080/"
        },
        "id": "4-W4yDTZ0ilp",
        "outputId": "1672d089-9e95-439e-c440-ebb8fac1a1ca"
      },
      "source": [
        "ones = np.ones((2,3))\r\n",
        "zeros = np.zeros((2,3))\r\n",
        "ones"
      ],
      "execution_count": null,
      "outputs": [
        {
          "output_type": "execute_result",
          "data": {
            "text/plain": [
              "array([[1., 1., 1.],\n",
              "       [1., 1., 1.]])"
            ]
          },
          "metadata": {
            "tags": []
          },
          "execution_count": 22
        }
      ]
    },
    {
      "cell_type": "code",
      "metadata": {
        "colab": {
          "base_uri": "https://localhost:8080/"
        },
        "id": "QQN-FNcZ05kw",
        "outputId": "55fea827-833a-41fb-a7b1-c807e514e20d"
      },
      "source": [
        "ones.dtype,type(ones)"
      ],
      "execution_count": null,
      "outputs": [
        {
          "output_type": "execute_result",
          "data": {
            "text/plain": [
              "(dtype('float64'), numpy.ndarray)"
            ]
          },
          "metadata": {
            "tags": []
          },
          "execution_count": 21
        }
      ]
    },
    {
      "cell_type": "markdown",
      "metadata": {
        "id": "EKUjFzwS2BM0"
      },
      "source": [
        "#array of numbers in a range"
      ]
    },
    {
      "cell_type": "code",
      "metadata": {
        "colab": {
          "base_uri": "https://localhost:8080/"
        },
        "id": "MFwQf8p20-MS",
        "outputId": "ee6abbf7-16f7-43bb-9cf6-c09463f0711b"
      },
      "source": [
        "range_array = np.arange(0,10,2)\r\n",
        "range_array"
      ],
      "execution_count": null,
      "outputs": [
        {
          "output_type": "execute_result",
          "data": {
            "text/plain": [
              "array([0, 2, 4, 6, 8])"
            ]
          },
          "metadata": {
            "tags": []
          },
          "execution_count": 24
        }
      ]
    },
    {
      "cell_type": "markdown",
      "metadata": {
        "id": "OCtbyMLZ2Jv0"
      },
      "source": [
        "#array of random numbers between some values"
      ]
    },
    {
      "cell_type": "code",
      "metadata": {
        "colab": {
          "base_uri": "https://localhost:8080/"
        },
        "id": "VRMbyRe-1Yy5",
        "outputId": "86eca688-6680-4cba-bcd4-3847ce081580"
      },
      "source": [
        "random_array = np.random.randint(0,10,size=(2,3))\r\n",
        "random_array        "
      ],
      "execution_count": null,
      "outputs": [
        {
          "output_type": "execute_result",
          "data": {
            "text/plain": [
              "array([[4, 1, 7],\n",
              "       [7, 5, 1]])"
            ]
          },
          "metadata": {
            "tags": []
          },
          "execution_count": 26
        }
      ]
    },
    {
      "cell_type": "code",
      "metadata": {
        "colab": {
          "base_uri": "https://localhost:8080/"
        },
        "id": "VCMcQuAd12Z9",
        "outputId": "d299e409-b526-4cce-dabd-bda383d4da56"
      },
      "source": [
        "random_array.size, random_array.shape"
      ],
      "execution_count": null,
      "outputs": [
        {
          "output_type": "execute_result",
          "data": {
            "text/plain": [
              "(6, (2, 3))"
            ]
          },
          "metadata": {
            "tags": []
          },
          "execution_count": 27
        }
      ]
    },
    {
      "cell_type": "code",
      "metadata": {
        "colab": {
          "base_uri": "https://localhost:8080/"
        },
        "id": "6I_qhpL92bZe",
        "outputId": "d9ff110f-c890-4dfb-b38c-d7821f3e8edc"
      },
      "source": [
        "#give an array with random numbers 0-1\r\n",
        "ran_arr =np.random.random((5,3))\r\n",
        "ran_arr"
      ],
      "execution_count": null,
      "outputs": [
        {
          "output_type": "execute_result",
          "data": {
            "text/plain": [
              "array([[0.14220872, 0.03222248, 0.17224627],\n",
              "       [0.24545566, 0.00494523, 0.97190595],\n",
              "       [0.34238519, 0.82238114, 0.1095134 ],\n",
              "       [0.2796004 , 0.10589102, 0.66797814],\n",
              "       [0.89304196, 0.15698888, 0.63541841]])"
            ]
          },
          "metadata": {
            "tags": []
          },
          "execution_count": 29
        }
      ]
    },
    {
      "cell_type": "code",
      "metadata": {
        "colab": {
          "base_uri": "https://localhost:8080/"
        },
        "id": "VVBNkdJ621z1",
        "outputId": "f7b22a40-69e3-4972-808e-b03b2fc7bb15"
      },
      "source": [
        "ran_arr2 = np.random.rand(5,3)\r\n",
        "ran_arr2"
      ],
      "execution_count": null,
      "outputs": [
        {
          "output_type": "execute_result",
          "data": {
            "text/plain": [
              "array([[0.1336658 , 0.67667965, 0.7701458 ],\n",
              "       [0.69101096, 0.32090469, 0.45017078],\n",
              "       [0.40304723, 0.0400179 , 0.84338753],\n",
              "       [0.87429044, 0.00904549, 0.45433526],\n",
              "       [0.65977204, 0.33016964, 0.6851228 ]])"
            ]
          },
          "metadata": {
            "tags": []
          },
          "execution_count": 32
        }
      ]
    },
    {
      "cell_type": "markdown",
      "metadata": {
        "id": "C9xI0jI63Nrv"
      },
      "source": [
        "#pseudo-random numbers\r\n"
      ]
    },
    {
      "cell_type": "markdown",
      "metadata": {
        "id": "vyLFtet04_6z"
      },
      "source": [
        "###generate a random integer array but remain same on reruns and around the seed, used to reproduce the data on different users' computer"
      ]
    },
    {
      "cell_type": "code",
      "metadata": {
        "colab": {
          "base_uri": "https://localhost:8080/"
        },
        "id": "4LXuFry53-AC",
        "outputId": "fb1eeee3-f38c-4f3e-ffcf-b316bb89783d"
      },
      "source": [
        "np.random.seed(seed=0)\r\n",
        "ran_arr4 = np.random.randint(10,size=(5,3))\r\n",
        "ran_arr4"
      ],
      "execution_count": null,
      "outputs": [
        {
          "output_type": "execute_result",
          "data": {
            "text/plain": [
              "array([[5, 0, 3],\n",
              "       [3, 7, 9],\n",
              "       [3, 5, 2],\n",
              "       [4, 7, 6],\n",
              "       [8, 8, 1]])"
            ]
          },
          "metadata": {
            "tags": []
          },
          "execution_count": 36
        }
      ]
    },
    {
      "cell_type": "code",
      "metadata": {
        "colab": {
          "base_uri": "https://localhost:8080/"
        },
        "id": "L2Etjr1I4mNe",
        "outputId": "73475bba-fd67-4cd2-b4b3-797efa4e5a38"
      },
      "source": [
        "ran_arr4.shape"
      ],
      "execution_count": null,
      "outputs": [
        {
          "output_type": "execute_result",
          "data": {
            "text/plain": [
              "(5, 3)"
            ]
          },
          "metadata": {
            "tags": []
          },
          "execution_count": 34
        }
      ]
    },
    {
      "cell_type": "markdown",
      "metadata": {
        "id": "eLu1NrEn5xfU"
      },
      "source": [
        "#Viewing the Array/Matrices"
      ]
    },
    {
      "cell_type": "code",
      "metadata": {
        "colab": {
          "base_uri": "https://localhost:8080/"
        },
        "id": "dS1WmrGU55m4",
        "outputId": "ff7418b3-0edc-4f17-ece5-f3a918fba0ed"
      },
      "source": [
        "#all elements in array without repetation\r\n",
        "np.unique(ran_arr4)\r\n"
      ],
      "execution_count": null,
      "outputs": [
        {
          "output_type": "execute_result",
          "data": {
            "text/plain": [
              "array([0, 1, 2, 3, 4, 5, 6, 7, 8, 9])"
            ]
          },
          "metadata": {
            "tags": []
          },
          "execution_count": 37
        }
      ]
    },
    {
      "cell_type": "code",
      "metadata": {
        "colab": {
          "base_uri": "https://localhost:8080/"
        },
        "id": "WCo8r3DT6pXd",
        "outputId": "18e291d9-8997-4812-a322-b320e9396150"
      },
      "source": [
        "a1"
      ],
      "execution_count": null,
      "outputs": [
        {
          "output_type": "execute_result",
          "data": {
            "text/plain": [
              "array([1, 2, 3])"
            ]
          },
          "metadata": {
            "tags": []
          },
          "execution_count": 38
        }
      ]
    },
    {
      "cell_type": "code",
      "metadata": {
        "colab": {
          "base_uri": "https://localhost:8080/"
        },
        "id": "qATPr3yd6xVm",
        "outputId": "b223d139-9b7b-4f23-c84f-6d1f28eb3f6b"
      },
      "source": [
        "a2"
      ],
      "execution_count": null,
      "outputs": [
        {
          "output_type": "execute_result",
          "data": {
            "text/plain": [
              "array([[1. , 2. , 3.3],\n",
              "       [4. , 5. , 6.6]])"
            ]
          },
          "metadata": {
            "tags": []
          },
          "execution_count": 39
        }
      ]
    },
    {
      "cell_type": "code",
      "metadata": {
        "colab": {
          "base_uri": "https://localhost:8080/"
        },
        "id": "8DgxnIJR6ytu",
        "outputId": "ea35e547-d3e8-4b7a-e751-d3373502f867"
      },
      "source": [
        "a3"
      ],
      "execution_count": null,
      "outputs": [
        {
          "output_type": "execute_result",
          "data": {
            "text/plain": [
              "array([[ 1,  2,  3],\n",
              "       [ 4,  5,  6],\n",
              "       [ 7,  8,  9],\n",
              "       [10, 11, 12],\n",
              "       [13, 14, 15],\n",
              "       [16, 17, 18]])"
            ]
          },
          "metadata": {
            "tags": []
          },
          "execution_count": 40
        }
      ]
    },
    {
      "cell_type": "markdown",
      "metadata": {
        "id": "KZTJWJMo60Yc"
      },
      "source": [
        "###array[row][column]"
      ]
    },
    {
      "cell_type": "markdown",
      "metadata": {
        "id": "FcXva8T961FM"
      },
      "source": [
        "###array[row] => returns that row\r\n",
        "###splicing with ':' like list\r\n",
        "###array[:][column] => returns that column"
      ]
    },
    {
      "cell_type": "markdown",
      "metadata": {
        "id": "SgaUz95y8vl-"
      },
      "source": [
        "#Multi-dimensional Array"
      ]
    },
    {
      "cell_type": "code",
      "metadata": {
        "colab": {
          "base_uri": "https://localhost:8080/"
        },
        "id": "ATfIp46U83zu",
        "outputId": "6af880f2-ef80-43ce-bb99-6fe05ccff9f2"
      },
      "source": [
        "a4 = np.random.randint(10,size=(2,3,4,5))\r\n",
        "# here the dimensions are created\r\n",
        "# as 5 columns(inner matrix) -> 4 rows(inner matrix) -> 3 g1 groups(of 4X5 matrices)\r\n",
        "# -> 2 groups of g1\r\n",
        "a4"
      ],
      "execution_count": null,
      "outputs": [
        {
          "output_type": "execute_result",
          "data": {
            "text/plain": [
              "array([[[[8, 8, 2, 3, 2],\n",
              "         [0, 8, 8, 3, 8],\n",
              "         [2, 8, 4, 3, 0],\n",
              "         [4, 3, 6, 9, 8]],\n",
              "\n",
              "        [[0, 8, 5, 9, 0],\n",
              "         [9, 6, 5, 3, 1],\n",
              "         [8, 0, 4, 9, 6],\n",
              "         [5, 7, 8, 8, 9]],\n",
              "\n",
              "        [[2, 8, 6, 6, 9],\n",
              "         [1, 6, 8, 8, 3],\n",
              "         [2, 3, 6, 3, 6],\n",
              "         [5, 7, 0, 8, 4]]],\n",
              "\n",
              "\n",
              "       [[[6, 5, 8, 2, 3],\n",
              "         [9, 7, 5, 3, 4],\n",
              "         [5, 3, 3, 7, 9],\n",
              "         [9, 9, 7, 3, 2]],\n",
              "\n",
              "        [[3, 9, 7, 7, 5],\n",
              "         [1, 2, 2, 8, 1],\n",
              "         [5, 8, 4, 0, 2],\n",
              "         [5, 5, 0, 8, 1]],\n",
              "\n",
              "        [[1, 0, 3, 8, 8],\n",
              "         [4, 4, 0, 9, 3],\n",
              "         [7, 3, 2, 1, 1],\n",
              "         [2, 1, 4, 2, 5]]]])"
            ]
          },
          "metadata": {
            "tags": []
          },
          "execution_count": 42
        }
      ]
    },
    {
      "cell_type": "code",
      "metadata": {
        "colab": {
          "base_uri": "https://localhost:8080/"
        },
        "id": "i1OKyHav9GNT",
        "outputId": "837d696d-4a86-433c-c1ea-9cbe499dd748"
      },
      "source": [
        "a4.shape, a4.ndim"
      ],
      "execution_count": null,
      "outputs": [
        {
          "output_type": "execute_result",
          "data": {
            "text/plain": [
              "((2, 3, 4, 5), 4)"
            ]
          },
          "metadata": {
            "tags": []
          },
          "execution_count": 43
        }
      ]
    },
    {
      "cell_type": "markdown",
      "metadata": {
        "id": "avTke08f-SWg"
      },
      "source": [
        "Slicing Example"
      ]
    },
    {
      "cell_type": "code",
      "metadata": {
        "colab": {
          "base_uri": "https://localhost:8080/"
        },
        "id": "iyoh5L7t-duK",
        "outputId": "e95b46a7-c5b3-424b-ecef-f2730c8c90f8"
      },
      "source": [
        "a4[:,:,:,:1]"
      ],
      "execution_count": null,
      "outputs": [
        {
          "output_type": "execute_result",
          "data": {
            "text/plain": [
              "array([[[[8],\n",
              "         [0],\n",
              "         [2],\n",
              "         [4]],\n",
              "\n",
              "        [[0],\n",
              "         [9],\n",
              "         [8],\n",
              "         [5]],\n",
              "\n",
              "        [[2],\n",
              "         [1],\n",
              "         [2],\n",
              "         [5]]],\n",
              "\n",
              "\n",
              "       [[[6],\n",
              "         [9],\n",
              "         [5],\n",
              "         [9]],\n",
              "\n",
              "        [[3],\n",
              "         [1],\n",
              "         [5],\n",
              "         [5]],\n",
              "\n",
              "        [[1],\n",
              "         [4],\n",
              "         [7],\n",
              "         [2]]]])"
            ]
          },
          "metadata": {
            "tags": []
          },
          "execution_count": 45
        }
      ]
    },
    {
      "cell_type": "markdown",
      "metadata": {
        "id": "JXcT2-r3-uC7"
      },
      "source": [
        "# Manipulating and comparing arrays\r\n",
        "### Arithmetic"
      ]
    },
    {
      "cell_type": "code",
      "metadata": {
        "colab": {
          "base_uri": "https://localhost:8080/"
        },
        "id": "Wtk0GILR_Pp7",
        "outputId": "5d55b814-8821-4076-a4d5-1c7107de9186"
      },
      "source": [
        "a1"
      ],
      "execution_count": null,
      "outputs": [
        {
          "output_type": "execute_result",
          "data": {
            "text/plain": [
              "array([1, 2, 3])"
            ]
          },
          "metadata": {
            "tags": []
          },
          "execution_count": 46
        }
      ]
    },
    {
      "cell_type": "code",
      "metadata": {
        "id": "n3dPOQ4M_TnI"
      },
      "source": [
        "ones = np.ones(3)\r\n"
      ],
      "execution_count": null,
      "outputs": []
    },
    {
      "cell_type": "code",
      "metadata": {
        "colab": {
          "base_uri": "https://localhost:8080/"
        },
        "id": "PhOennaj_ZhK",
        "outputId": "a536bca6-cdc8-46ce-849a-3955842c5f43"
      },
      "source": [
        "a1+ones"
      ],
      "execution_count": null,
      "outputs": [
        {
          "output_type": "execute_result",
          "data": {
            "text/plain": [
              "array([2., 3., 4.])"
            ]
          },
          "metadata": {
            "tags": []
          },
          "execution_count": 48
        }
      ]
    },
    {
      "cell_type": "code",
      "metadata": {
        "colab": {
          "base_uri": "https://localhost:8080/"
        },
        "id": "OR2gDZiy_cpK",
        "outputId": "4dc01872-de0b-488e-849e-ed40b1ff2001"
      },
      "source": [
        "a1-ones"
      ],
      "execution_count": null,
      "outputs": [
        {
          "output_type": "execute_result",
          "data": {
            "text/plain": [
              "array([0., 1., 2.])"
            ]
          },
          "metadata": {
            "tags": []
          },
          "execution_count": 49
        }
      ]
    },
    {
      "cell_type": "code",
      "metadata": {
        "colab": {
          "base_uri": "https://localhost:8080/"
        },
        "id": "wlO7slSZ_jAW",
        "outputId": "642d2b11-33b0-4f4d-ccb5-5e278fa80fb1"
      },
      "source": [
        "a1 * ones"
      ],
      "execution_count": null,
      "outputs": [
        {
          "output_type": "execute_result",
          "data": {
            "text/plain": [
              "array([1., 2., 3.])"
            ]
          },
          "metadata": {
            "tags": []
          },
          "execution_count": 50
        }
      ]
    },
    {
      "cell_type": "code",
      "metadata": {
        "colab": {
          "base_uri": "https://localhost:8080/"
        },
        "id": "P2lENX3-_lTR",
        "outputId": "230e954d-bffb-4c1d-e052-c5b262f75a57"
      },
      "source": [
        "a2"
      ],
      "execution_count": null,
      "outputs": [
        {
          "output_type": "execute_result",
          "data": {
            "text/plain": [
              "array([[1. , 2. , 3.3],\n",
              "       [4. , 5. , 6.6]])"
            ]
          },
          "metadata": {
            "tags": []
          },
          "execution_count": 51
        }
      ]
    },
    {
      "cell_type": "code",
      "metadata": {
        "colab": {
          "base_uri": "https://localhost:8080/"
        },
        "id": "aafVWA50_otc",
        "outputId": "9f570e5e-986d-4e4d-ec5a-0f4a6364a8aa"
      },
      "source": [
        "a1*a2"
      ],
      "execution_count": null,
      "outputs": [
        {
          "output_type": "execute_result",
          "data": {
            "text/plain": [
              "array([[ 1. ,  4. ,  9.9],\n",
              "       [ 4. , 10. , 19.8]])"
            ]
          },
          "metadata": {
            "tags": []
          },
          "execution_count": 52
        }
      ]
    },
    {
      "cell_type": "code",
      "metadata": {
        "colab": {
          "base_uri": "https://localhost:8080/",
          "height": 167
        },
        "id": "jwgRFZIj_sQa",
        "outputId": "f367018e-2c18-4597-de73-fb500285b731"
      },
      "source": [
        "a2 * a3"
      ],
      "execution_count": null,
      "outputs": [
        {
          "output_type": "error",
          "ename": "ValueError",
          "evalue": "ignored",
          "traceback": [
            "\u001b[0;31m---------------------------------------------------------------------------\u001b[0m",
            "\u001b[0;31mValueError\u001b[0m                                Traceback (most recent call last)",
            "\u001b[0;32m<ipython-input-53-37d8620f1b2c>\u001b[0m in \u001b[0;36m<module>\u001b[0;34m()\u001b[0m\n\u001b[0;32m----> 1\u001b[0;31m \u001b[0ma2\u001b[0m \u001b[0;34m*\u001b[0m \u001b[0ma3\u001b[0m\u001b[0;34m\u001b[0m\u001b[0;34m\u001b[0m\u001b[0m\n\u001b[0m",
            "\u001b[0;31mValueError\u001b[0m: operands could not be broadcast together with shapes (2,3) (6,3) "
          ]
        }
      ]
    },
    {
      "cell_type": "code",
      "metadata": {
        "colab": {
          "base_uri": "https://localhost:8080/"
        },
        "id": "1FkzrRzgAy9V",
        "outputId": "e1f70fc3-7f64-4f0e-a99e-e8dd1e699559"
      },
      "source": [
        "a1/ones"
      ],
      "execution_count": null,
      "outputs": [
        {
          "output_type": "execute_result",
          "data": {
            "text/plain": [
              "array([1., 2., 3.])"
            ]
          },
          "metadata": {
            "tags": []
          },
          "execution_count": 54
        }
      ]
    },
    {
      "cell_type": "code",
      "metadata": {
        "colab": {
          "base_uri": "https://localhost:8080/"
        },
        "id": "CaOu27x0A1ro",
        "outputId": "d32539c1-6acb-4a27-9dd5-26efaa0436c3"
      },
      "source": [
        "a2/a1"
      ],
      "execution_count": null,
      "outputs": [
        {
          "output_type": "execute_result",
          "data": {
            "text/plain": [
              "array([[1. , 1. , 1.1],\n",
              "       [4. , 2.5, 2.2]])"
            ]
          },
          "metadata": {
            "tags": []
          },
          "execution_count": 55
        }
      ]
    },
    {
      "cell_type": "code",
      "metadata": {
        "colab": {
          "base_uri": "https://localhost:8080/"
        },
        "id": "oso2dzx2A464",
        "outputId": "5920686c-fd04-439b-d004-ff52c4fb2969"
      },
      "source": [
        "a2//a1"
      ],
      "execution_count": null,
      "outputs": [
        {
          "output_type": "execute_result",
          "data": {
            "text/plain": [
              "array([[1., 1., 1.],\n",
              "       [4., 2., 2.]])"
            ]
          },
          "metadata": {
            "tags": []
          },
          "execution_count": 56
        }
      ]
    },
    {
      "cell_type": "code",
      "metadata": {
        "colab": {
          "base_uri": "https://localhost:8080/"
        },
        "id": "DbclLLu6A-pF",
        "outputId": "ab2fcbeb-4910-493d-f3ab-2306cc9aef77"
      },
      "source": [
        "a2 ** 2"
      ],
      "execution_count": null,
      "outputs": [
        {
          "output_type": "execute_result",
          "data": {
            "text/plain": [
              "array([[ 1.  ,  4.  , 10.89],\n",
              "       [16.  , 25.  , 43.56]])"
            ]
          },
          "metadata": {
            "tags": []
          },
          "execution_count": 57
        }
      ]
    },
    {
      "cell_type": "code",
      "metadata": {
        "colab": {
          "base_uri": "https://localhost:8080/"
        },
        "id": "kE98sdJtBEbX",
        "outputId": "c19349fb-0a17-42e4-e04b-de09f8d0e6fd"
      },
      "source": [
        "a2 % 2"
      ],
      "execution_count": null,
      "outputs": [
        {
          "output_type": "execute_result",
          "data": {
            "text/plain": [
              "array([[1. , 0. , 1.3],\n",
              "       [0. , 1. , 0.6]])"
            ]
          },
          "metadata": {
            "tags": []
          },
          "execution_count": 59
        }
      ]
    },
    {
      "cell_type": "code",
      "metadata": {
        "colab": {
          "base_uri": "https://localhost:8080/"
        },
        "id": "nlbf-N14BVaR",
        "outputId": "c3b09570-dae7-4899-cf62-044b5ca6cc87"
      },
      "source": [
        "np.exp(a1)"
      ],
      "execution_count": null,
      "outputs": [
        {
          "output_type": "execute_result",
          "data": {
            "text/plain": [
              "array([ 2.71828183,  7.3890561 , 20.08553692])"
            ]
          },
          "metadata": {
            "tags": []
          },
          "execution_count": 60
        }
      ]
    },
    {
      "cell_type": "code",
      "metadata": {
        "colab": {
          "base_uri": "https://localhost:8080/"
        },
        "id": "MAJ_g2b4Bj76",
        "outputId": "6df08de1-bc1f-427c-a2e8-a94805f6dc0a"
      },
      "source": [
        "np.log(a2)"
      ],
      "execution_count": null,
      "outputs": [
        {
          "output_type": "execute_result",
          "data": {
            "text/plain": [
              "array([[0.        , 0.69314718, 1.19392247],\n",
              "       [1.38629436, 1.60943791, 1.88706965]])"
            ]
          },
          "metadata": {
            "tags": []
          },
          "execution_count": 61
        }
      ]
    },
    {
      "cell_type": "markdown",
      "metadata": {
        "id": "v4ZF-iiBBsez"
      },
      "source": [
        "#Aggregation"
      ]
    },
    {
      "cell_type": "code",
      "metadata": {
        "colab": {
          "base_uri": "https://localhost:8080/"
        },
        "id": "0EdAA1ytBwOQ",
        "outputId": "ae02e8e0-2ef4-44ee-9efc-224bcfc68396"
      },
      "source": [
        "lst = [1,2,3]\r\n",
        "type(lst),sum(lst)"
      ],
      "execution_count": null,
      "outputs": [
        {
          "output_type": "execute_result",
          "data": {
            "text/plain": [
              "(list, 6)"
            ]
          },
          "metadata": {
            "tags": []
          },
          "execution_count": 62
        }
      ]
    },
    {
      "cell_type": "code",
      "metadata": {
        "colab": {
          "base_uri": "https://localhost:8080/"
        },
        "id": "BQj0DT97LtDn",
        "outputId": "cc882498-d948-4ace-ec7a-590fe4310770"
      },
      "source": [
        "#In numpy\r\n",
        "np.sum(lst)"
      ],
      "execution_count": null,
      "outputs": [
        {
          "output_type": "execute_result",
          "data": {
            "text/plain": [
              "6"
            ]
          },
          "metadata": {
            "tags": []
          },
          "execution_count": 63
        }
      ]
    },
    {
      "cell_type": "markdown",
      "metadata": {
        "id": "XkDfFMWwL7RU"
      },
      "source": [
        "###Use python methods for python datatypes & similarly use Numpy array for numpy datatypes"
      ]
    },
    {
      "cell_type": "code",
      "metadata": {
        "colab": {
          "base_uri": "https://localhost:8080/"
        },
        "id": "Hh_UpvkEMN-W",
        "outputId": "ed7c8662-7adf-4647-db24-e2dfab2368f9"
      },
      "source": [
        "massive_array = np.random.random(100000)\r\n",
        "massive_array.size"
      ],
      "execution_count": null,
      "outputs": [
        {
          "output_type": "execute_result",
          "data": {
            "text/plain": [
              "100000"
            ]
          },
          "metadata": {
            "tags": []
          },
          "execution_count": 66
        }
      ]
    },
    {
      "cell_type": "code",
      "metadata": {
        "colab": {
          "base_uri": "https://localhost:8080/"
        },
        "id": "-l0eTF6DMiRi",
        "outputId": "7c59823b-bd3a-4b1e-c224-0c20c62ec03b"
      },
      "source": [
        "%timeit sum(massive_array) #python sum method\r\n",
        "%timeit np.sum(massive_array) #Numpy sum method"
      ],
      "execution_count": null,
      "outputs": [
        {
          "output_type": "stream",
          "text": [
            "100 loops, best of 3: 16.6 ms per loop\n",
            "The slowest run took 4.24 times longer than the fastest. This could mean that an intermediate result is being cached.\n",
            "10000 loops, best of 3: 39.2 µs per loop\n"
          ],
          "name": "stdout"
        }
      ]
    },
    {
      "cell_type": "markdown",
      "metadata": {
        "id": "j0HTGRHCNHMT"
      },
      "source": [
        "### Numpy optimization is demonstrated above"
      ]
    },
    {
      "cell_type": "code",
      "metadata": {
        "colab": {
          "base_uri": "https://localhost:8080/"
        },
        "id": "0udqDJNRNhID",
        "outputId": "67b34799-ff15-4a28-f8c4-30b3152060b0"
      },
      "source": [
        "np.mean(a2),np.max(a2),np.min(a2),round(np.std(a2),3),np.var(a2)  #e.t.c"
      ],
      "execution_count": null,
      "outputs": [
        {
          "output_type": "execute_result",
          "data": {
            "text/plain": [
              "(3.65, 6.6, 1.0, 1.849, 3.419166666666667)"
            ]
          },
          "metadata": {
            "tags": []
          },
          "execution_count": 70
        }
      ]
    },
    {
      "cell_type": "markdown",
      "metadata": {
        "id": "Td6OXd47OAaZ"
      },
      "source": [
        "#####Variance = measure of avg degree of difference between the elements and their mean\r\n",
        "#####Higher the variance => wider range of numbers \r\n",
        "#####Lower the variance => narrow range of numbers"
      ]
    },
    {
      "cell_type": "markdown",
      "metadata": {
        "id": "E6mNwyLgOyDG"
      },
      "source": [
        "#####Std deviation = how spread out the data is. =>sqrt(var)"
      ]
    },
    {
      "cell_type": "code",
      "metadata": {
        "id": "KEr8zy2LPSB_",
        "colab": {
          "base_uri": "https://localhost:8080/"
        },
        "outputId": "e7a960e4-28f0-4726-c10a-d5159f50f260"
      },
      "source": [
        "np.sqrt(np.var(a2))"
      ],
      "execution_count": 5,
      "outputs": [
        {
          "output_type": "execute_result",
          "data": {
            "text/plain": [
              "1.8490988796347985"
            ]
          },
          "metadata": {
            "tags": []
          },
          "execution_count": 5
        }
      ]
    },
    {
      "cell_type": "code",
      "metadata": {
        "id": "fRGG2I1HCX7t"
      },
      "source": [
        "# Demo of std and var\r\n",
        "high_var_array = np.array([1,100,200,300,4000,5000])\r\n",
        "low_var_array = np.array([2,4,6,8,10])"
      ],
      "execution_count": 6,
      "outputs": []
    },
    {
      "cell_type": "code",
      "metadata": {
        "colab": {
          "base_uri": "https://localhost:8080/"
        },
        "id": "M5qejxXbCx9w",
        "outputId": "6fa14c7f-4074-4d40-bd85-e4ac43f48378"
      },
      "source": [
        "np.var(high_var_array),np.var(low_var_array)"
      ],
      "execution_count": 7,
      "outputs": [
        {
          "output_type": "execute_result",
          "data": {
            "text/plain": [
              "(4296133.472222221, 8.0)"
            ]
          },
          "metadata": {
            "tags": []
          },
          "execution_count": 7
        }
      ]
    },
    {
      "cell_type": "code",
      "metadata": {
        "colab": {
          "base_uri": "https://localhost:8080/"
        },
        "id": "Gtw-NHPIC_jL",
        "outputId": "bbbbce8b-05f1-486d-f908-4a21b6cb2038"
      },
      "source": [
        "#On avg how far away from each other\r\n",
        "np.std(high_var_array),np.std(low_var_array)"
      ],
      "execution_count": 8,
      "outputs": [
        {
          "output_type": "execute_result",
          "data": {
            "text/plain": [
              "(2072.711623024829, 2.8284271247461903)"
            ]
          },
          "metadata": {
            "tags": []
          },
          "execution_count": 8
        }
      ]
    },
    {
      "cell_type": "code",
      "metadata": {
        "colab": {
          "base_uri": "https://localhost:8080/"
        },
        "id": "Fi045P77DG_3",
        "outputId": "47b5b6c6-1e0a-4f4e-c979-5f73a29f9254"
      },
      "source": [
        "np.mean(high_var_array),np.mean(low_var_array)"
      ],
      "execution_count": 9,
      "outputs": [
        {
          "output_type": "execute_result",
          "data": {
            "text/plain": [
              "(1600.1666666666667, 6.0)"
            ]
          },
          "metadata": {
            "tags": []
          },
          "execution_count": 9
        }
      ]
    },
    {
      "cell_type": "code",
      "metadata": {
        "colab": {
          "base_uri": "https://localhost:8080/",
          "height": 265
        },
        "id": "Y_Xpk0fHDQd2",
        "outputId": "8177db11-f915-47fe-b5f1-2c07dd3dff47"
      },
      "source": [
        "# find speard by plotting\r\n",
        "%matplotlib inline\r\n",
        "import matplotlib.pyplot as plt\r\n",
        "plt.hist(high_var_array)\r\n",
        "plt.show()"
      ],
      "execution_count": 10,
      "outputs": [
        {
          "output_type": "display_data",
          "data": {
            "image/png": "[encoded data removed]",
            "text/plain": [
              "<Figure size 432x288 with 1 Axes>"
            ]
          },
          "metadata": {
            "tags": [],
            "needs_background": "light"
          }
        }
      ]
    },
    {
      "cell_type": "code",
      "metadata": {
        "colab": {
          "base_uri": "https://localhost:8080/",
          "height": 265
        },
        "id": "uo8IphtjEJxN",
        "outputId": "5dbe6f3a-61e9-405b-b0e7-ffbe5ba38494"
      },
      "source": [
        "plt.hist(low_var_array)\r\n",
        "plt.show()"
      ],
      "execution_count": 11,
      "outputs": [
        {
          "output_type": "display_data",
          "data": {
            "image/png": "[encoded data removed]",
            "text/plain": [
              "<Figure size 432x288 with 1 Axes>"
            ]
          },
          "metadata": {
            "tags": [],
            "needs_background": "light"
          }
        }
      ]
    },
    {
      "cell_type": "markdown",
      "metadata": {
        "id": "dNIZ0rH2Ej3w"
      },
      "source": [
        "#Reshaping and Transpose"
      ]
    },
    {
      "cell_type": "code",
      "metadata": {
        "colab": {
          "base_uri": "https://localhost:8080/"
        },
        "id": "OT3p5LBZEzqd",
        "outputId": "c48b7e3f-34c2-4924-a7ab-c148e529d2a1"
      },
      "source": [
        "a3\r\n",
        "a2"
      ],
      "execution_count": 14,
      "outputs": [
        {
          "output_type": "execute_result",
          "data": {
            "text/plain": [
              "array([[1. , 2. , 3.3],\n",
              "       [4. , 5. , 6.6]])"
            ]
          },
          "metadata": {
            "tags": []
          },
          "execution_count": 14
        }
      ]
    },
    {
      "cell_type": "code",
      "metadata": {
        "colab": {
          "base_uri": "https://localhost:8080/",
          "height": 167
        },
        "id": "jD1bjBZRFHpZ",
        "outputId": "83bf4a31-35bb-4881-ee61-750be7f4caa2"
      },
      "source": [
        "a3*a2"
      ],
      "execution_count": 15,
      "outputs": [
        {
          "output_type": "error",
          "ename": "ValueError",
          "evalue": "ignored",
          "traceback": [
            "\u001b[0;31m---------------------------------------------------------------------------\u001b[0m",
            "\u001b[0;31mValueError\u001b[0m                                Traceback (most recent call last)",
            "\u001b[0;32m<ipython-input-15-297609480023>\u001b[0m in \u001b[0;36m<module>\u001b[0;34m()\u001b[0m\n\u001b[0;32m----> 1\u001b[0;31m \u001b[0ma3\u001b[0m\u001b[0;34m*\u001b[0m\u001b[0ma2\u001b[0m\u001b[0;34m\u001b[0m\u001b[0;34m\u001b[0m\u001b[0m\n\u001b[0m",
            "\u001b[0;31mValueError\u001b[0m: operands could not be broadcast together with shapes (6,3) (2,3) "
          ]
        }
      ]
    },
    {
      "cell_type": "markdown",
      "metadata": {
        "id": "aLbfhP06Fidd"
      },
      "source": [
        "##Broadcasting (Numpy matrix operation rules) rules:\r\n",
        "###1)Dimension must be same (or)\r\n",
        "###2)One of them is one\r\n"
      ]
    },
    {
      "cell_type": "code",
      "metadata": {
        "colab": {
          "base_uri": "https://localhost:8080/"
        },
        "id": "pveMWpuhFJ5C",
        "outputId": "1694b743-63a4-48c1-a585-7a50316d6c6c"
      },
      "source": [
        "a2.reshape(2,3,1)"
      ],
      "execution_count": 16,
      "outputs": [
        {
          "output_type": "execute_result",
          "data": {
            "text/plain": [
              "array([[[1. ],\n",
              "        [2. ],\n",
              "        [3.3]],\n",
              "\n",
              "       [[4. ],\n",
              "        [5. ],\n",
              "        [6.6]]])"
            ]
          },
          "metadata": {
            "tags": []
          },
          "execution_count": 16
        }
      ]
    },
    {
      "cell_type": "markdown",
      "metadata": {
        "id": "kCkeqHVRF8tR"
      },
      "source": [
        "###Transpose"
      ]
    },
    {
      "cell_type": "code",
      "metadata": {
        "colab": {
          "base_uri": "https://localhost:8080/"
        },
        "id": "s37X90iyGAxu",
        "outputId": "4d2433cc-e6a6-4174-cc7d-aa40bb3431df"
      },
      "source": [
        "a3.shape"
      ],
      "execution_count": 17,
      "outputs": [
        {
          "output_type": "execute_result",
          "data": {
            "text/plain": [
              "(6, 3)"
            ]
          },
          "metadata": {
            "tags": []
          },
          "execution_count": 17
        }
      ]
    },
    {
      "cell_type": "code",
      "metadata": {
        "colab": {
          "base_uri": "https://localhost:8080/"
        },
        "id": "j2K4OHEqGSw6",
        "outputId": "b9b95de3-5301-4b64-ad6e-b26b0e64ab6a"
      },
      "source": [
        "a3.T.shape "
      ],
      "execution_count": 18,
      "outputs": [
        {
          "output_type": "execute_result",
          "data": {
            "text/plain": [
              "(3, 6)"
            ]
          },
          "metadata": {
            "tags": []
          },
          "execution_count": 18
        }
      ]
    },
    {
      "cell_type": "markdown",
      "metadata": {
        "id": "q9w8qWwmGane"
      },
      "source": [
        "# Dot product v/s Element wise product"
      ]
    },
    {
      "cell_type": "code",
      "metadata": {
        "colab": {
          "base_uri": "https://localhost:8080/"
        },
        "id": "sI_pVoS7GvbF",
        "outputId": "67caf749-86d1-4a6e-98b1-55dfe827a9fa"
      },
      "source": [
        "np.random.seed(0)\r\n",
        "mat1 = np.random.randint(10, size=(5,3))\r\n",
        "mat2 = np.random.randint(10, size=(5,3))\r\n",
        "mat1"
      ],
      "execution_count": 22,
      "outputs": [
        {
          "output_type": "execute_result",
          "data": {
            "text/plain": [
              "array([[5, 0, 3],\n",
              "       [3, 7, 9],\n",
              "       [3, 5, 2],\n",
              "       [4, 7, 6],\n",
              "       [8, 8, 1]])"
            ]
          },
          "metadata": {
            "tags": []
          },
          "execution_count": 22
        }
      ]
    },
    {
      "cell_type": "code",
      "metadata": {
        "colab": {
          "base_uri": "https://localhost:8080/"
        },
        "id": "Vtp3HisvHIbw",
        "outputId": "398e2b33-9bd6-4bf1-f86d-06a36798faf9"
      },
      "source": [
        "mat2"
      ],
      "execution_count": 23,
      "outputs": [
        {
          "output_type": "execute_result",
          "data": {
            "text/plain": [
              "array([[6, 7, 7],\n",
              "       [8, 1, 5],\n",
              "       [9, 8, 9],\n",
              "       [4, 3, 0],\n",
              "       [3, 5, 0]])"
            ]
          },
          "metadata": {
            "tags": []
          },
          "execution_count": 23
        }
      ]
    },
    {
      "cell_type": "code",
      "metadata": {
        "colab": {
          "base_uri": "https://localhost:8080/"
        },
        "id": "TNSI6Zv0HOg3",
        "outputId": "63940c86-4340-42e7-d0c2-50d524ea9c3e"
      },
      "source": [
        "mat1.shape, mat2.shape"
      ],
      "execution_count": 24,
      "outputs": [
        {
          "output_type": "execute_result",
          "data": {
            "text/plain": [
              "((5, 3), (5, 3))"
            ]
          },
          "metadata": {
            "tags": []
          },
          "execution_count": 24
        }
      ]
    },
    {
      "cell_type": "code",
      "metadata": {
        "colab": {
          "base_uri": "https://localhost:8080/"
        },
        "id": "Mm_9QADxHWDv",
        "outputId": "1502468e-ef46-4823-98f2-4e0035e77ac7"
      },
      "source": [
        "#Element wise product (Hadamard Product)\r\n",
        "mat1*mat2 "
      ],
      "execution_count": 25,
      "outputs": [
        {
          "output_type": "execute_result",
          "data": {
            "text/plain": [
              "array([[30,  0, 21],\n",
              "       [24,  7, 45],\n",
              "       [27, 40, 18],\n",
              "       [16, 21,  0],\n",
              "       [24, 40,  0]])"
            ]
          },
          "metadata": {
            "tags": []
          },
          "execution_count": 25
        }
      ]
    },
    {
      "cell_type": "code",
      "metadata": {
        "id": "J8IWPKrYHbb0"
      },
      "source": [
        "#Dot product\r\n",
        "mat3 = np.dot(mat1,mat2.T)"
      ],
      "execution_count": 27,
      "outputs": []
    },
    {
      "cell_type": "code",
      "metadata": {
        "colab": {
          "base_uri": "https://localhost:8080/"
        },
        "id": "80Y-ORn5IFRq",
        "outputId": "49d22b14-36f1-4bd2-eb4c-c510572429d7"
      },
      "source": [
        "mat3.shape"
      ],
      "execution_count": 28,
      "outputs": [
        {
          "output_type": "execute_result",
          "data": {
            "text/plain": [
              "(5, 5)"
            ]
          },
          "metadata": {
            "tags": []
          },
          "execution_count": 28
        }
      ]
    },
    {
      "cell_type": "code",
      "metadata": {
        "colab": {
          "base_uri": "https://localhost:8080/"
        },
        "id": "iwCfNpfQJv1O",
        "outputId": "bb341358-e7c1-4a34-8e26-b23b34cb3d95"
      },
      "source": [
        "# quantity of 3 products sold on each day is represented \r\n",
        "# in the form of rows and their price are given\r\n",
        "# find the Sales on each day \r\n",
        "quant = np.array([[2,7,1],\r\n",
        "                 [9,4,6],\r\n",
        "                 [11,14,18],\r\n",
        "                 [13,13,16],\r\n",
        "                 [15,18,9]])\r\n",
        "price = np.array([10,8,12])\r\n",
        "quant.shape , price.shape"
      ],
      "execution_count": 32,
      "outputs": [
        {
          "output_type": "execute_result",
          "data": {
            "text/plain": [
              "((5, 3), (3,))"
            ]
          },
          "metadata": {
            "tags": []
          },
          "execution_count": 32
        }
      ]
    },
    {
      "cell_type": "code",
      "metadata": {
        "colab": {
          "base_uri": "https://localhost:8080/"
        },
        "id": "ntplGAxJKzRc",
        "outputId": "9fe14e8f-8b31-45fe-ef3e-34ea1cc4b6bf"
      },
      "source": [
        "Sales = np.dot(quant,price)\r\n",
        "Sales"
      ],
      "execution_count": 34,
      "outputs": [
        {
          "output_type": "execute_result",
          "data": {
            "text/plain": [
              "array([ 88, 194, 438, 426, 402])"
            ]
          },
          "metadata": {
            "tags": []
          },
          "execution_count": 34
        }
      ]
    },
    {
      "cell_type": "code",
      "metadata": {
        "id": "R9T8wTlkMsI_"
      },
      "source": [
        "import pandas as pd"
      ],
      "execution_count": 35,
      "outputs": []
    },
    {
      "cell_type": "code",
      "metadata": {
        "colab": {
          "base_uri": "https://localhost:8080/",
          "height": 195
        },
        "id": "_IUuAhtcM54a",
        "outputId": "8eba7f0f-f9fb-4bdc-84c7-03691ad9bb3f"
      },
      "source": [
        "weekly_sales = pd.DataFrame(quant,index=[\"Mon\",\"Tue\",\"Wed\",\"Thurs\",\"Fri\"],\r\n",
        "                            columns = [\"Almond Butter\",\"Peanut Butter\",\"Cashew Butter\",])\r\n",
        "weekly_sales                            "
      ],
      "execution_count": 36,
      "outputs": [
        {
          "output_type": "execute_result",
          "data": {
            "text/html": [
              "<div>\n",
              "<style scoped>\n",
              "    .dataframe tbody tr th:only-of-type {\n",
              "        vertical-align: middle;\n",
              "    }\n",
              "\n",
              "    .dataframe tbody tr th {\n",
              "        vertical-align: top;\n",
              "    }\n",
              "\n",
              "    .dataframe thead th {\n",
              "        text-align: right;\n",
              "    }\n",
              "</style>\n",
              "<table border=\"1\" class=\"dataframe\">\n",
              "  <thead>\n",
              "    <tr style=\"text-align: right;\">\n",
              "      <th></th>\n",
              "      <th>Almond Butter</th>\n",
              "      <th>Peanut Butter</th>\n",
              "      <th>Cashew Butter</th>\n",
              "    </tr>\n",
              "  </thead>\n",
              "  <tbody>\n",
              "    <tr>\n",
              "      <th>Mon</th>\n",
              "      <td>2</td>\n",
              "      <td>7</td>\n",
              "      <td>1</td>\n",
              "    </tr>\n",
              "    <tr>\n",
              "      <th>Tue</th>\n",
              "      <td>9</td>\n",
              "      <td>4</td>\n",
              "      <td>6</td>\n",
              "    </tr>\n",
              "    <tr>\n",
              "      <th>Wed</th>\n",
              "      <td>11</td>\n",
              "      <td>14</td>\n",
              "      <td>18</td>\n",
              "    </tr>\n",
              "    <tr>\n",
              "      <th>Thurs</th>\n",
              "      <td>13</td>\n",
              "      <td>13</td>\n",
              "      <td>16</td>\n",
              "    </tr>\n",
              "    <tr>\n",
              "      <th>Fri</th>\n",
              "      <td>15</td>\n",
              "      <td>18</td>\n",
              "      <td>9</td>\n",
              "    </tr>\n",
              "  </tbody>\n",
              "</table>\n",
              "</div>"
            ],
            "text/plain": [
              "       Almond Butter  Peanut Butter  Cashew Butter\n",
              "Mon                2              7              1\n",
              "Tue                9              4              6\n",
              "Wed               11             14             18\n",
              "Thurs             13             13             16\n",
              "Fri               15             18              9"
            ]
          },
          "metadata": {
            "tags": []
          },
          "execution_count": 36
        }
      ]
    },
    {
      "cell_type": "code",
      "metadata": {
        "colab": {
          "base_uri": "https://localhost:8080/",
          "height": 77
        },
        "id": "khlJLlvUOAZ8",
        "outputId": "cf718270-e658-4b44-ed9d-d8c03eb54eb7"
      },
      "source": [
        "butter_prices = pd.DataFrame(price.reshape(1,3), index=['Price'],columns = [\"Almond Butter\",\"Peanut Butter\",\"Cashew Butter\",])\r\n",
        "butter_prices"
      ],
      "execution_count": 39,
      "outputs": [
        {
          "output_type": "execute_result",
          "data": {
            "text/html": [
              "<div>\n",
              "<style scoped>\n",
              "    .dataframe tbody tr th:only-of-type {\n",
              "        vertical-align: middle;\n",
              "    }\n",
              "\n",
              "    .dataframe tbody tr th {\n",
              "        vertical-align: top;\n",
              "    }\n",
              "\n",
              "    .dataframe thead th {\n",
              "        text-align: right;\n",
              "    }\n",
              "</style>\n",
              "<table border=\"1\" class=\"dataframe\">\n",
              "  <thead>\n",
              "    <tr style=\"text-align: right;\">\n",
              "      <th></th>\n",
              "      <th>Almond Butter</th>\n",
              "      <th>Peanut Butter</th>\n",
              "      <th>Cashew Butter</th>\n",
              "    </tr>\n",
              "  </thead>\n",
              "  <tbody>\n",
              "    <tr>\n",
              "      <th>Price</th>\n",
              "      <td>10</td>\n",
              "      <td>8</td>\n",
              "      <td>12</td>\n",
              "    </tr>\n",
              "  </tbody>\n",
              "</table>\n",
              "</div>"
            ],
            "text/plain": [
              "       Almond Butter  Peanut Butter  Cashew Butter\n",
              "Price             10              8             12"
            ]
          },
          "metadata": {
            "tags": []
          },
          "execution_count": 39
        }
      ]
    },
    {
      "cell_type": "code",
      "metadata": {
        "colab": {
          "base_uri": "https://localhost:8080/",
          "height": 195
        },
        "id": "yc28DL9fPAw2",
        "outputId": "ab0a5187-d1c1-44f7-b68f-938b392debb9"
      },
      "source": [
        "total_sales = weekly_sales.dot(butter_prices.T)\r\n",
        "total_sales"
      ],
      "execution_count": 41,
      "outputs": [
        {
          "output_type": "execute_result",
          "data": {
            "text/html": [
              "<div>\n",
              "<style scoped>\n",
              "    .dataframe tbody tr th:only-of-type {\n",
              "        vertical-align: middle;\n",
              "    }\n",
              "\n",
              "    .dataframe tbody tr th {\n",
              "        vertical-align: top;\n",
              "    }\n",
              "\n",
              "    .dataframe thead th {\n",
              "        text-align: right;\n",
              "    }\n",
              "</style>\n",
              "<table border=\"1\" class=\"dataframe\">\n",
              "  <thead>\n",
              "    <tr style=\"text-align: right;\">\n",
              "      <th></th>\n",
              "      <th>Price</th>\n",
              "    </tr>\n",
              "  </thead>\n",
              "  <tbody>\n",
              "    <tr>\n",
              "      <th>Mon</th>\n",
              "      <td>88</td>\n",
              "    </tr>\n",
              "    <tr>\n",
              "      <th>Tue</th>\n",
              "      <td>194</td>\n",
              "    </tr>\n",
              "    <tr>\n",
              "      <th>Wed</th>\n",
              "      <td>438</td>\n",
              "    </tr>\n",
              "    <tr>\n",
              "      <th>Thurs</th>\n",
              "      <td>426</td>\n",
              "    </tr>\n",
              "    <tr>\n",
              "      <th>Fri</th>\n",
              "      <td>402</td>\n",
              "    </tr>\n",
              "  </tbody>\n",
              "</table>\n",
              "</div>"
            ],
            "text/plain": [
              "       Price\n",
              "Mon       88\n",
              "Tue      194\n",
              "Wed      438\n",
              "Thurs    426\n",
              "Fri      402"
            ]
          },
          "metadata": {
            "tags": []
          },
          "execution_count": 41
        }
      ]
    },
    {
      "cell_type": "code",
      "metadata": {
        "colab": {
          "base_uri": "https://localhost:8080/",
          "height": 195
        },
        "id": "J99kX1vWPsrv",
        "outputId": "3ebc8a1e-2d00-424f-f7cd-385f7e556b76"
      },
      "source": [
        "weekly_sales[\"Daily sales\"] = total_sales\r\n",
        "weekly_sales"
      ],
      "execution_count": 42,
      "outputs": [
        {
          "output_type": "execute_result",
          "data": {
            "text/html": [
              "<div>\n",
              "<style scoped>\n",
              "    .dataframe tbody tr th:only-of-type {\n",
              "        vertical-align: middle;\n",
              "    }\n",
              "\n",
              "    .dataframe tbody tr th {\n",
              "        vertical-align: top;\n",
              "    }\n",
              "\n",
              "    .dataframe thead th {\n",
              "        text-align: right;\n",
              "    }\n",
              "</style>\n",
              "<table border=\"1\" class=\"dataframe\">\n",
              "  <thead>\n",
              "    <tr style=\"text-align: right;\">\n",
              "      <th></th>\n",
              "      <th>Almond Butter</th>\n",
              "      <th>Peanut Butter</th>\n",
              "      <th>Cashew Butter</th>\n",
              "      <th>Daily sales</th>\n",
              "    </tr>\n",
              "  </thead>\n",
              "  <tbody>\n",
              "    <tr>\n",
              "      <th>Mon</th>\n",
              "      <td>2</td>\n",
              "      <td>7</td>\n",
              "      <td>1</td>\n",
              "      <td>88</td>\n",
              "    </tr>\n",
              "    <tr>\n",
              "      <th>Tue</th>\n",
              "      <td>9</td>\n",
              "      <td>4</td>\n",
              "      <td>6</td>\n",
              "      <td>194</td>\n",
              "    </tr>\n",
              "    <tr>\n",
              "      <th>Wed</th>\n",
              "      <td>11</td>\n",
              "      <td>14</td>\n",
              "      <td>18</td>\n",
              "      <td>438</td>\n",
              "    </tr>\n",
              "    <tr>\n",
              "      <th>Thurs</th>\n",
              "      <td>13</td>\n",
              "      <td>13</td>\n",
              "      <td>16</td>\n",
              "      <td>426</td>\n",
              "    </tr>\n",
              "    <tr>\n",
              "      <th>Fri</th>\n",
              "      <td>15</td>\n",
              "      <td>18</td>\n",
              "      <td>9</td>\n",
              "      <td>402</td>\n",
              "    </tr>\n",
              "  </tbody>\n",
              "</table>\n",
              "</div>"
            ],
            "text/plain": [
              "       Almond Butter  Peanut Butter  Cashew Butter  Daily sales\n",
              "Mon                2              7              1           88\n",
              "Tue                9              4              6          194\n",
              "Wed               11             14             18          438\n",
              "Thurs             13             13             16          426\n",
              "Fri               15             18              9          402"
            ]
          },
          "metadata": {
            "tags": []
          },
          "execution_count": 42
        }
      ]
    },
    {
      "cell_type": "markdown",
      "metadata": {
        "id": "YgGbeIeSQke7"
      },
      "source": [
        "#Comparision Operators"
      ]
    },
    {
      "cell_type": "markdown",
      "metadata": {
        "id": "THM3NpbFQyyv"
      },
      "source": [
        "###Element wise comparision"
      ]
    },
    {
      "cell_type": "code",
      "metadata": {
        "colab": {
          "base_uri": "https://localhost:8080/"
        },
        "id": "cq_Qh5TyQpjT",
        "outputId": "4166d408-7c8c-4c07-ccfc-ce2b3ecf0c0b"
      },
      "source": [
        "a1 > a2  "
      ],
      "execution_count": 43,
      "outputs": [
        {
          "output_type": "execute_result",
          "data": {
            "text/plain": [
              "array([[False, False, False],\n",
              "       [False, False, False]])"
            ]
          },
          "metadata": {
            "tags": []
          },
          "execution_count": 43
        }
      ]
    },
    {
      "cell_type": "code",
      "metadata": {
        "colab": {
          "base_uri": "https://localhost:8080/"
        },
        "id": "LUCCc3TTRlUS",
        "outputId": "fbf016a5-4e31-48d6-839f-f529cb082c5d"
      },
      "source": [
        "a1 < 4"
      ],
      "execution_count": 45,
      "outputs": [
        {
          "output_type": "execute_result",
          "data": {
            "text/plain": [
              "array([ True,  True,  True])"
            ]
          },
          "metadata": {
            "tags": []
          },
          "execution_count": 45
        }
      ]
    },
    {
      "cell_type": "code",
      "metadata": {
        "colab": {
          "base_uri": "https://localhost:8080/"
        },
        "id": "gja-vigpSROe",
        "outputId": "460aa4a4-a0be-40b5-f8a2-cbebab0ae8e2"
      },
      "source": [
        "a1 == a1"
      ],
      "execution_count": 46,
      "outputs": [
        {
          "output_type": "execute_result",
          "data": {
            "text/plain": [
              "array([ True,  True,  True])"
            ]
          },
          "metadata": {
            "tags": []
          },
          "execution_count": 46
        }
      ]
    },
    {
      "cell_type": "markdown",
      "metadata": {
        "id": "MxfHu1kUTWcu"
      },
      "source": [
        "# Sorting Array"
      ]
    },
    {
      "cell_type": "code",
      "metadata": {
        "colab": {
          "base_uri": "https://localhost:8080/"
        },
        "id": "uGx5ekngTc0Z",
        "outputId": "3b8946f7-024b-49e9-8c4e-fc2306b766a2"
      },
      "source": [
        "rand_arr = np.random.randint(10,size=(3,5))\r\n",
        "rand_arr"
      ],
      "execution_count": 48,
      "outputs": [
        {
          "output_type": "execute_result",
          "data": {
            "text/plain": [
              "array([[3, 2, 7, 2, 0],\n",
              "       [0, 4, 5, 5, 6],\n",
              "       [8, 4, 1, 4, 9]])"
            ]
          },
          "metadata": {
            "tags": []
          },
          "execution_count": 48
        }
      ]
    },
    {
      "cell_type": "code",
      "metadata": {
        "colab": {
          "base_uri": "https://localhost:8080/"
        },
        "id": "20uguHSmTo-t",
        "outputId": "3749efcc-784c-4f77-941a-abec2322f354"
      },
      "source": [
        "np.sort(rand_arr,axis=1)  #Row wise sort of values for axis = 0, column otherwise"
      ],
      "execution_count": 53,
      "outputs": [
        {
          "output_type": "execute_result",
          "data": {
            "text/plain": [
              "array([[0, 2, 2, 3, 7],\n",
              "       [0, 4, 5, 5, 6],\n",
              "       [1, 4, 4, 8, 9]])"
            ]
          },
          "metadata": {
            "tags": []
          },
          "execution_count": 53
        }
      ]
    },
    {
      "cell_type": "code",
      "metadata": {
        "colab": {
          "base_uri": "https://localhost:8080/"
        },
        "id": "femQ2ipkUJtd",
        "outputId": "8fffd3eb-21cf-4c62-807a-e7eb5636d539"
      },
      "source": [
        "np.argsort(rand_arr) #Row wise sort for indices not values"
      ],
      "execution_count": 50,
      "outputs": [
        {
          "output_type": "execute_result",
          "data": {
            "text/plain": [
              "array([[4, 1, 3, 0, 2],\n",
              "       [0, 1, 2, 3, 4],\n",
              "       [2, 1, 3, 0, 4]])"
            ]
          },
          "metadata": {
            "tags": []
          },
          "execution_count": 50
        }
      ]
    },
    {
      "cell_type": "code",
      "metadata": {
        "colab": {
          "base_uri": "https://localhost:8080/"
        },
        "id": "Oo1fABCrUQNA",
        "outputId": "a693f7ec-d14f-440e-9608-199b736079d5"
      },
      "source": [
        "np.argmin(rand_arr)"
      ],
      "execution_count": 52,
      "outputs": [
        {
          "output_type": "execute_result",
          "data": {
            "text/plain": [
              "4"
            ]
          },
          "metadata": {
            "tags": []
          },
          "execution_count": 52
        }
      ]
    },
    {
      "cell_type": "markdown",
      "metadata": {
        "id": "-mXh6IYNVgGn"
      },
      "source": [
        "# Practical Examples : Images -> Number matrix"
      ]
    },
    {
      "cell_type": "code",
      "metadata": {
        "colab": {
          "base_uri": "https://localhost:8080/",
          "height": 255
        },
        "id": "fcgmjJp8Vu3S",
        "outputId": "82dbf0ae-20f7-4470-d167-3076eb5df1de"
      },
      "source": [
        "# ![picture](https://drive.google.com/uc?id=14twBtKsBcHVr1PGqtIWd5xEdxILWL_Sz)\r\n",
        "#https://drive.google.com/file/d/14twBtKsBcHVr1PGqtIWd5xEdxILWL_Sz/view?usp=sharing\r\n",
        "%%html\r\n",
        "<img src=\"https://drive.google.com/uc?id=14twBtKsBcHVr1PGqtIWd5xEdxILWL_Sz\" width =350 height=235/>"
      ],
      "execution_count": 68,
      "outputs": [
        {
          "output_type": "display_data",
          "data": {
            "text/html": [
              "<img src=\"https://drive.google.com/uc?id=14twBtKsBcHVr1PGqtIWd5xEdxILWL_Sz\" width =350 height=235/>"
            ],
            "text/plain": [
              "<IPython.core.display.HTML object>"
            ]
          },
          "metadata": {
            "tags": []
          }
        }
      ]
    },
    {
      "cell_type": "code",
      "metadata": {
        "id": "UEzvlChjjSYn",
        "outputId": "c18eebf5-49fa-40e2-e39d-e6e145dee7cd",
        "colab": {
          "base_uri": "https://localhost:8080/"
        }
      },
      "source": [
        "from matplotlib.image import imread\r\n",
        "panda = imread(\"panda.png\")\r\n",
        "panda.shape, type(panda)"
      ],
      "execution_count": 73,
      "outputs": [
        {
          "output_type": "execute_result",
          "data": {
            "text/plain": [
              "((2330, 3500, 3), numpy.ndarray)"
            ]
          },
          "metadata": {
            "tags": []
          },
          "execution_count": 73
        }
      ]
    }
  ]
}